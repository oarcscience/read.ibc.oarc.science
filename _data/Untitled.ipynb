{
 "cells": [
  {
   "cell_type": "code",
   "execution_count": 1,
   "metadata": {},
   "outputs": [
    {
     "name": "stdout",
     "output_type": "stream",
     "text": [
      "Writing down the final file...\n"
     ]
    },
    {
     "ename": "FileNotFoundError",
     "evalue": "[Errno 2] No such file or directory: '_data/globalbase.csv'",
     "output_type": "error",
     "traceback": [
      "\u001b[0;31m---------------------------------------------------------------------------\u001b[0m",
      "\u001b[0;31mFileNotFoundError\u001b[0m                         Traceback (most recent call last)",
      "\u001b[0;32m<ipython-input-1-a1e6dde622fc>\u001b[0m in \u001b[0;36m<module>\u001b[0;34m\u001b[0m\n\u001b[1;32m     14\u001b[0m     \u001b[0mprint\u001b[0m\u001b[0;34m(\u001b[0m\u001b[0;34m\"Done.\"\u001b[0m\u001b[0;34m)\u001b[0m\u001b[0;34m\u001b[0m\u001b[0;34m\u001b[0m\u001b[0m\n\u001b[1;32m     15\u001b[0m \u001b[0mprint\u001b[0m\u001b[0;34m(\u001b[0m\u001b[0;34m\"Writing down the final file...\"\u001b[0m\u001b[0;34m)\u001b[0m\u001b[0;34m\u001b[0m\u001b[0;34m\u001b[0m\u001b[0m\n\u001b[0;32m---> 16\u001b[0;31m \u001b[0;32mwith\u001b[0m \u001b[0mopen\u001b[0m\u001b[0;34m(\u001b[0m\u001b[0;34m\"_data/globalbase.csv\"\u001b[0m\u001b[0;34m,\u001b[0m \u001b[0;34m\"w\"\u001b[0m\u001b[0;34m)\u001b[0m \u001b[0;32mas\u001b[0m \u001b[0mfout\u001b[0m\u001b[0;34m:\u001b[0m\u001b[0;34m\u001b[0m\u001b[0;34m\u001b[0m\u001b[0m\n\u001b[0m\u001b[1;32m     17\u001b[0m     \u001b[0mfout\u001b[0m\u001b[0;34m.\u001b[0m\u001b[0mwrite\u001b[0m\u001b[0;34m(\u001b[0m\u001b[0mfoutstring\u001b[0m\u001b[0;34m)\u001b[0m\u001b[0;34m\u001b[0m\u001b[0;34m\u001b[0m\u001b[0m\n\u001b[1;32m     18\u001b[0m \u001b[0mprint\u001b[0m\u001b[0;34m(\u001b[0m\u001b[0;34m\"Done.\"\u001b[0m\u001b[0;34m)\u001b[0m\u001b[0;34m\u001b[0m\u001b[0;34m\u001b[0m\u001b[0m\n",
      "\u001b[0;31mFileNotFoundError\u001b[0m: [Errno 2] No such file or directory: '_data/globalbase.csv'"
     ]
    }
   ],
   "source": [
    "import pandas as pd\n",
    "import glob\n",
    "import csv\n",
    "foutstring=\"filename,ls,lscum,firsts,content\\n\"\n",
    "for f in glob.glob(\"_data/sources getbible-net/*.txt\"):\n",
    "    print(\"Working with file {} ...\".format(f))\n",
    "    df=pd.read_csv(f ,sep=\"\\|\\|\", engine=\"python\", header=None)\n",
    "    df.columns=[\"book\",\"chapter\",\"verse\",\"content\"]\n",
    "    ls=\"¤\".join(map(str,list(df[[\"book\",\"chapter\"]].groupby(\"book\").agg(set)[\"chapter\"].apply(len))))\n",
    "    lscum=\"¤\".join(map(str,[0]+list(df[[\"book\",\"chapter\"]].groupby(\"book\").agg(set)[\"chapter\"].apply(len).cumsum())))\n",
    "    firsts=\"¤\".join(map(str,list(df[df[\"verse\"]==1].index)+[df.shape[0]]))\n",
    "    content=\"\".join(df.apply(lambda x: '◊{}||{}||{} {}◊¤ '.format(x[\"book\"],x[\"chapter\"],x[\"verse\"],x[\"content\"]),axis=1))\n",
    "    foutstring+=\"{},{},{},{},{}\\n\".format(f.split(\"/\")[-1],ls,lscum,firsts,content.replace(\",\",\"¤\"))\n",
    "    print(\"Done.\")\n",
    "print(\"Writing down the final file...\")\n",
    "with open(\"_data/globalbase.csv\", \"w\") as fout:\n",
    "    fout.write(foutstring)\n",
    "print(\"Done.\")"
   ]
  },
  {
   "cell_type": "code",
   "execution_count": 5,
   "metadata": {},
   "outputs": [
    {
     "name": "stderr",
     "output_type": "stream",
     "text": [
      "/home/maxwell/anaconda3/lib/python3.6/site-packages/ipykernel_launcher.py:1: ParserWarning: Falling back to the 'python' engine because the 'c' engine does not support regex separators (separators > 1 char and different from '\\s+' are interpreted as regex); you can avoid this warning by specifying engine='python'.\n",
      "  \"\"\"Entry point for launching an IPython kernel.\n"
     ]
    }
   ],
   "source": [
    "ind=pd.read_csv(\"sources getbible-net/indonesian.txt\", sep=\"\\|\\|\")\n",
    "ind.columns=[\"book\",\"chapter\",\"verse\",\"content\"]\n"
   ]
  },
  {
   "cell_type": "code",
   "execution_count": 17,
   "metadata": {},
   "outputs": [
    {
     "data": {
      "text/plain": [
       "book\n",
       "GEN    50\n",
       "EXO    40\n",
       "LEV    27\n",
       "NUM    36\n",
       "DEU    34\n",
       "       ..\n",
       "1JO     5\n",
       "2JO     1\n",
       "3JO     1\n",
       "JUD     1\n",
       "REV    22\n",
       "Name: chapter, Length: 66, dtype: int64"
      ]
     },
     "execution_count": 17,
     "metadata": {},
     "output_type": "execute_result"
    }
   ],
   "source": [
    "ind[[\"book\",\"chapter\"]].groupby([\"book\"],sort=False).agg(set)[\"chapter\"].apply(len)"
   ]
  },
  {
   "cell_type": "code",
   "execution_count": null,
   "metadata": {},
   "outputs": [],
   "source": []
  }
 ],
 "metadata": {
  "kernelspec": {
   "display_name": "Python 3",
   "language": "python",
   "name": "python3"
  },
  "language_info": {
   "codemirror_mode": {
    "name": "ipython",
    "version": 3
   },
   "file_extension": ".py",
   "mimetype": "text/x-python",
   "name": "python",
   "nbconvert_exporter": "python",
   "pygments_lexer": "ipython3",
   "version": "3.6.7"
  }
 },
 "nbformat": 4,
 "nbformat_minor": 2
}
